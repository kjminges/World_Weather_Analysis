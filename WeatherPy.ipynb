{
 "cells": [
  {
   "cell_type": "code",
   "execution_count": 10,
   "id": "ae99596a",
   "metadata": {},
   "outputs": [],
   "source": [
    "# Import the dependencies.\n",
    "import pandas as pd\n",
    "import matplotlib.pyplot as plt\n",
    "import numpy as np\n",
    "# Use the citipy module to determine city based on latitude and longitude.\n",
    "from citipy import citipy"
   ]
  },
  {
   "cell_type": "code",
   "execution_count": 11,
   "id": "7c14b797",
   "metadata": {},
   "outputs": [
    {
     "data": {
      "text/plain": [
       "<zip at 0x2b238fb6fc0>"
      ]
     },
     "execution_count": 11,
     "metadata": {},
     "output_type": "execute_result"
    }
   ],
   "source": [
    "# Create a set of random latitude and longitude combinations.\n",
    "lats = np.random.uniform(low=-90.000, high=90.000, size=1500)\n",
    "lngs = np.random.uniform(low=-180.000, high=180.000, size=1500)\n",
    "lat_lngs = zip(lats, lngs)\n",
    "lat_lngs"
   ]
  },
  {
   "cell_type": "code",
   "execution_count": 12,
   "id": "9224905c",
   "metadata": {},
   "outputs": [],
   "source": [
    "# Add the latitudes and longitudes to a list.\n",
    "coordinates = list(lat_lngs)"
   ]
  },
  {
   "cell_type": "code",
   "execution_count": 13,
   "id": "9ca13d79",
   "metadata": {},
   "outputs": [
    {
     "data": {
      "text/plain": [
       "632"
      ]
     },
     "execution_count": 13,
     "metadata": {},
     "output_type": "execute_result"
    }
   ],
   "source": [
    "# Create a list for holding the cities.\n",
    "cities = []\n",
    "\n",
    "# Identify the nearest city for each latitude and longitude combination.\n",
    "for coordinate in coordinates:\n",
    "    city = citipy.nearest_city(coordinate[0], coordinate[1]).city_name\n",
    "\n",
    "    # If the city is unique, then we will add it to the cities list.\n",
    "    if city not in cities:\n",
    "        cities.append(city)\n",
    "\n",
    "# Print the city count to confirm sufficient count.\n",
    "len(cities)"
   ]
  },
  {
   "cell_type": "code",
   "execution_count": 14,
   "id": "256c2269",
   "metadata": {},
   "outputs": [],
   "source": [
    "# Import the requests library.\n",
    "import requests\n",
    "\n",
    "# Import the API key.\n",
    "from config import weather_api_key"
   ]
  },
  {
   "cell_type": "code",
   "execution_count": 15,
   "id": "81785982",
   "metadata": {},
   "outputs": [
    {
     "name": "stdout",
     "output_type": "stream",
     "text": [
      "http://api.openweathermap.org/data/2.5/weather?units=Imperial&APPID=5c6f0c38edaaa89d7869bd309b6e8178\n"
     ]
    }
   ],
   "source": [
    "# Starting URL for Weather Map API Call.\n",
    "url = \"http://api.openweathermap.org/data/2.5/weather?units=Imperial&APPID=\" + weather_api_key\n",
    "print(url)"
   ]
  },
  {
   "cell_type": "code",
   "execution_count": 17,
   "id": "58699c6f",
   "metadata": {},
   "outputs": [],
   "source": [
    "# Import the time library and the datetime module from the datetime library \n",
    "import time\n",
    "from datetime import datetime"
   ]
  },
  {
   "cell_type": "code",
   "execution_count": 18,
   "id": "77e17312",
   "metadata": {},
   "outputs": [
    {
     "name": "stdout",
     "output_type": "stream",
     "text": [
      "Beginning Data Retrieval     \n",
      "-----------------------------\n"
     ]
    }
   ],
   "source": [
    "# Create an empty list to hold the weather data.\n",
    "city_data = []\n",
    "# Print the beginning of the logging.\n",
    "print(\"Beginning Data Retrieval     \")\n",
    "print(\"-----------------------------\")\n",
    "\n",
    "# Create counters.\n",
    "record_count = 1\n",
    "set_count = 1"
   ]
  },
  {
   "cell_type": "code",
   "execution_count": null,
   "id": "1d3d0bea",
   "metadata": {},
   "outputs": [],
   "source": []
  },
  {
   "cell_type": "code",
   "execution_count": 19,
   "id": "e1adb4c3",
   "metadata": {},
   "outputs": [
    {
     "name": "stdout",
     "output_type": "stream",
     "text": [
      "Processing Record 1 of Set 1 | namatanai\n",
      "None\n",
      "Processing Record 2 of Set 1 | saskylakh\n",
      "None\n",
      "Processing Record 3 of Set 1 | camacari\n",
      "None\n",
      "Processing Record 4 of Set 1 | ushuaia\n",
      "None\n",
      "Processing Record 5 of Set 1 | fortuna\n",
      "None\n",
      "Processing Record 6 of Set 1 | komsomolskiy\n",
      "None\n",
      "Processing Record 7 of Set 1 | yellowknife\n",
      "None\n",
      "Processing Record 8 of Set 1 | port alfred\n",
      "None\n",
      "Processing Record 9 of Set 1 | castro\n",
      "None\n",
      "Processing Record 10 of Set 1 | lolua\n",
      "City not found. Skipping...\n",
      "Processing Record 11 of Set 1 | busselton\n",
      "None\n",
      "Processing Record 12 of Set 1 | hobart\n",
      "None\n",
      "Processing Record 13 of Set 1 | boende\n",
      "None\n",
      "Processing Record 14 of Set 1 | atuona\n",
      "None\n",
      "Processing Record 15 of Set 1 | mataura\n",
      "None\n",
      "Processing Record 16 of Set 1 | new norfolk\n",
      "None\n",
      "Processing Record 17 of Set 1 | tazovskiy\n",
      "None\n",
      "Processing Record 18 of Set 1 | belushya guba\n",
      "City not found. Skipping...\n",
      "Processing Record 19 of Set 1 | bengkulu\n",
      "None\n",
      "Processing Record 20 of Set 1 | port hardy\n",
      "None\n",
      "Processing Record 21 of Set 1 | bereda\n",
      "None\n",
      "Processing Record 22 of Set 1 | rikitea\n",
      "None\n",
      "Processing Record 23 of Set 1 | ambanja\n",
      "None\n",
      "Processing Record 24 of Set 1 | yinchuan\n",
      "None\n",
      "Processing Record 25 of Set 1 | trelew\n",
      "None\n",
      "Processing Record 26 of Set 1 | pericos\n",
      "None\n",
      "Processing Record 27 of Set 1 | taveta\n",
      "None\n",
      "Processing Record 28 of Set 1 | dumai\n",
      "None\n",
      "Processing Record 29 of Set 1 | kodiak\n",
      "None\n",
      "Processing Record 30 of Set 1 | jamestown\n",
      "None\n",
      "Processing Record 31 of Set 1 | grants\n",
      "None\n",
      "Processing Record 32 of Set 1 | amderma\n",
      "City not found. Skipping...\n",
      "Processing Record 33 of Set 1 | barrow\n",
      "None\n",
      "Processing Record 34 of Set 1 | nicoya\n",
      "None\n",
      "Processing Record 35 of Set 1 | tasiilaq\n",
      "None\n",
      "Processing Record 36 of Set 1 | pisco\n",
      "None\n",
      "Processing Record 37 of Set 1 | babu\n",
      "None\n",
      "Processing Record 38 of Set 1 | shelburne\n",
      "None\n",
      "Processing Record 39 of Set 1 | grindavik\n",
      "None\n",
      "Processing Record 40 of Set 1 | punta arenas\n",
      "None\n",
      "Processing Record 41 of Set 1 | binzhou\n",
      "None\n",
      "Processing Record 42 of Set 1 | harper\n",
      "None\n",
      "Processing Record 43 of Set 1 | vanimo\n",
      "None\n",
      "Processing Record 44 of Set 1 | mys shmidta\n",
      "City not found. Skipping...\n",
      "Processing Record 45 of Set 1 | hay river\n",
      "None\n",
      "Processing Record 46 of Set 1 | port elizabeth\n",
      "None\n",
      "Processing Record 47 of Set 1 | manuk mangkaw\n",
      "None\n",
      "Processing Record 48 of Set 1 | saint george\n",
      "None\n",
      "Processing Record 49 of Set 1 | shenjiamen\n",
      "None\n",
      "Processing Record 50 of Set 1 | darnah\n",
      "None\n",
      "Processing Record 1 of Set 2 | esperance\n",
      "None\n",
      "Processing Record 2 of Set 2 | vila praia de ancora\n",
      "None\n",
      "Processing Record 3 of Set 2 | namibe\n",
      "None\n",
      "Processing Record 4 of Set 2 | fairbanks\n",
      "None\n",
      "Processing Record 5 of Set 2 | manavalakurichi\n",
      "None\n",
      "Processing Record 6 of Set 2 | taolanaro\n",
      "City not found. Skipping...\n",
      "Processing Record 7 of Set 2 | constantine\n",
      "None\n",
      "Processing Record 8 of Set 2 | bluff\n",
      "None\n",
      "Processing Record 9 of Set 2 | sioux lookout\n",
      "None\n",
      "Processing Record 10 of Set 2 | grobina\n",
      "None\n",
      "Processing Record 11 of Set 2 | saryg-sep\n",
      "None\n",
      "Processing Record 12 of Set 2 | deputatskiy\n",
      "None\n",
      "Processing Record 13 of Set 2 | draganesti\n",
      "None\n",
      "Processing Record 14 of Set 2 | whitianga\n",
      "None\n",
      "Processing Record 15 of Set 2 | touros\n",
      "None\n",
      "Processing Record 16 of Set 2 | vaini\n",
      "None\n",
      "Processing Record 17 of Set 2 | severo-kurilsk\n",
      "None\n",
      "Processing Record 18 of Set 2 | uyuni\n",
      "None\n",
      "Processing Record 19 of Set 2 | chokurdakh\n",
      "None\n",
      "Processing Record 20 of Set 2 | cardston\n",
      "None\n",
      "Processing Record 21 of Set 2 | dikson\n",
      "None\n",
      "Processing Record 22 of Set 2 | longyearbyen\n",
      "None\n",
      "Processing Record 23 of Set 2 | merauke\n",
      "None\n",
      "Processing Record 24 of Set 2 | barentsburg\n",
      "City not found. Skipping...\n",
      "Processing Record 25 of Set 2 | los llanos de aridane\n",
      "None\n",
      "Processing Record 26 of Set 2 | hermanus\n",
      "None\n",
      "Processing Record 27 of Set 2 | kon tum\n",
      "None\n",
      "Processing Record 28 of Set 2 | constitucion\n",
      "None\n",
      "Processing Record 29 of Set 2 | souillac\n",
      "None\n",
      "Processing Record 30 of Set 2 | iqaluit\n",
      "None\n",
      "Processing Record 31 of Set 2 | bacuit\n",
      "City not found. Skipping...\n",
      "Processing Record 32 of Set 2 | dunedin\n",
      "None\n",
      "Processing Record 33 of Set 2 | thompson\n",
      "None\n",
      "Processing Record 34 of Set 2 | illoqqortoormiut\n",
      "City not found. Skipping...\n",
      "Processing Record 35 of Set 2 | waingapu\n",
      "None\n",
      "Processing Record 36 of Set 2 | garoua boulai\n",
      "None\n",
      "Processing Record 37 of Set 2 | bara\n",
      "None\n",
      "Processing Record 38 of Set 2 | kapaa\n",
      "None\n",
      "Processing Record 39 of Set 2 | marcona\n",
      "City not found. Skipping...\n",
      "Processing Record 40 of Set 2 | norman wells\n",
      "None\n",
      "Processing Record 41 of Set 2 | ribeira grande\n",
      "None\n",
      "Processing Record 42 of Set 2 | barao de melgaco\n",
      "None\n",
      "Processing Record 43 of Set 2 | palabuhanratu\n",
      "City not found. Skipping...\n",
      "Processing Record 44 of Set 2 | troitsko-pechorsk\n",
      "None\n",
      "Processing Record 45 of Set 2 | albany\n",
      "None\n",
      "Processing Record 46 of Set 2 | tuktoyaktuk\n",
      "None\n",
      "Processing Record 47 of Set 2 | provideniya\n",
      "None\n",
      "Processing Record 48 of Set 2 | codrington\n",
      "None\n",
      "Processing Record 49 of Set 2 | luderitz\n",
      "None\n",
      "Processing Record 50 of Set 2 | alice springs\n",
      "None\n"
     ]
    },
    {
     "ename": "KeyboardInterrupt",
     "evalue": "",
     "output_type": "error",
     "traceback": [
      "\u001b[1;31m---------------------------------------------------------------------------\u001b[0m",
      "\u001b[1;31mKeyboardInterrupt\u001b[0m                         Traceback (most recent call last)",
      "\u001b[1;32m~\\AppData\\Local\\Temp/ipykernel_20504/3381097455.py\u001b[0m in \u001b[0;36m<module>\u001b[1;34m\u001b[0m\n\u001b[0;32m      6\u001b[0m         \u001b[0mset_count\u001b[0m \u001b[1;33m+=\u001b[0m \u001b[1;36m1\u001b[0m\u001b[1;33m\u001b[0m\u001b[1;33m\u001b[0m\u001b[0m\n\u001b[0;32m      7\u001b[0m         \u001b[0mrecord_count\u001b[0m \u001b[1;33m=\u001b[0m \u001b[1;36m1\u001b[0m\u001b[1;33m\u001b[0m\u001b[1;33m\u001b[0m\u001b[0m\n\u001b[1;32m----> 8\u001b[1;33m         \u001b[0mtime\u001b[0m\u001b[1;33m.\u001b[0m\u001b[0msleep\u001b[0m\u001b[1;33m(\u001b[0m\u001b[1;36m60\u001b[0m\u001b[1;33m)\u001b[0m\u001b[1;33m\u001b[0m\u001b[1;33m\u001b[0m\u001b[0m\n\u001b[0m\u001b[0;32m      9\u001b[0m \u001b[1;33m\u001b[0m\u001b[0m\n\u001b[0;32m     10\u001b[0m     \u001b[1;31m# Create endpoint URL with each city.\u001b[0m\u001b[1;33m\u001b[0m\u001b[1;33m\u001b[0m\u001b[0m\n",
      "\u001b[1;31mKeyboardInterrupt\u001b[0m: "
     ]
    }
   ],
   "source": [
    "# Loop through all the cities in the list.\n",
    "for i, city in enumerate(cities):\n",
    "\n",
    "    # Group cities in sets of 50 for logging purposes.\n",
    "    if (i % 50 == 0 and i >= 50):\n",
    "        set_count += 1\n",
    "        record_count = 1\n",
    "        time.sleep(60)\n",
    "\n",
    "    # Create endpoint URL with each city.\n",
    "    city_url = url + \"&q=\" + city.replace(\" \",\"+\")\n",
    "\n",
    "    # Log the URL, record, and set numbers and the city.\n",
    "    print(f\"Processing Record {record_count} of Set {set_count} | {city}\")\n",
    "    # Add 1 to the record count.\n",
    "    record_count += 1\n",
    "    \n",
    "    # Run an API request for each of the cities.\n",
    "    try:\n",
    "        # Parse the JSON and retrieve data.\n",
    "        city_weather = requests.get(city_url).json()\n",
    "        # Parse out the needed data.\n",
    "        city_lat = city_weather[\"coord\"][\"lat\"]\n",
    "        city_lng = city_weather[\"coord\"][\"lon\"]\n",
    "        city_max_temp = city_weather[\"main\"][\"temp_max\"]\n",
    "        city_humidity = city_weather[\"main\"][\"humidity\"]\n",
    "        city_clouds = city_weather[\"clouds\"][\"all\"]\n",
    "        city_wind = city_weather[\"wind\"][\"speed\"]\n",
    "        city_country = city_weather[\"sys\"][\"country\"]\n",
    "        # Convert the date to ISO standard.\n",
    "        city_date = datetime.utcfromtimestamp(city_weather[\"dt\"]).strftime('%Y-%m-%d %H:%M:%S')\n",
    "        # Append the city information into city_data list.\n",
    "        print(city_data.append({\"City\": city.title(),\n",
    "                          \"Lat\": city_lat,\n",
    "                          \"Lng\": city_lng,\n",
    "                          \"Max Temp\": city_max_temp,\n",
    "                          \"Humidity\": city_humidity,\n",
    "                          \"Cloudiness\": city_clouds,\n",
    "                          \"Wind Speed\": city_wind,\n",
    "                          \"Country\": city_country,\n",
    "                          \"Date\": city_date}))\n",
    "\n",
    "    # If an error is experienced, skip the city.\n",
    "    except:\n",
    "        print(\"City not found. Skipping...\")\n",
    "        pass\n",
    "\n",
    "# Indicate that Data Loading is complete.\n",
    "print(\"-----------------------------\")\n",
    "print(\"Data Retrieval Complete      \")\n",
    "print(\"-----------------------------\")"
   ]
  },
  {
   "cell_type": "code",
   "execution_count": 20,
   "id": "ce986ce5",
   "metadata": {},
   "outputs": [
    {
     "data": {
      "text/html": [
       "<div>\n",
       "<style scoped>\n",
       "    .dataframe tbody tr th:only-of-type {\n",
       "        vertical-align: middle;\n",
       "    }\n",
       "\n",
       "    .dataframe tbody tr th {\n",
       "        vertical-align: top;\n",
       "    }\n",
       "\n",
       "    .dataframe thead th {\n",
       "        text-align: right;\n",
       "    }\n",
       "</style>\n",
       "<table border=\"1\" class=\"dataframe\">\n",
       "  <thead>\n",
       "    <tr style=\"text-align: right;\">\n",
       "      <th></th>\n",
       "      <th>City</th>\n",
       "      <th>Lat</th>\n",
       "      <th>Lng</th>\n",
       "      <th>Max Temp</th>\n",
       "      <th>Humidity</th>\n",
       "      <th>Cloudiness</th>\n",
       "      <th>Wind Speed</th>\n",
       "      <th>Country</th>\n",
       "      <th>Date</th>\n",
       "    </tr>\n",
       "  </thead>\n",
       "  <tbody>\n",
       "    <tr>\n",
       "      <th>0</th>\n",
       "      <td>Namatanai</td>\n",
       "      <td>-3.6667</td>\n",
       "      <td>152.4333</td>\n",
       "      <td>84.04</td>\n",
       "      <td>69</td>\n",
       "      <td>100</td>\n",
       "      <td>7.25</td>\n",
       "      <td>PG</td>\n",
       "      <td>2022-02-01 01:37:06</td>\n",
       "    </tr>\n",
       "    <tr>\n",
       "      <th>1</th>\n",
       "      <td>Saskylakh</td>\n",
       "      <td>71.9167</td>\n",
       "      <td>114.0833</td>\n",
       "      <td>-28.91</td>\n",
       "      <td>100</td>\n",
       "      <td>66</td>\n",
       "      <td>2.19</td>\n",
       "      <td>RU</td>\n",
       "      <td>2022-02-01 01:37:06</td>\n",
       "    </tr>\n",
       "    <tr>\n",
       "      <th>2</th>\n",
       "      <td>Camacari</td>\n",
       "      <td>-12.6975</td>\n",
       "      <td>-38.3242</td>\n",
       "      <td>82.17</td>\n",
       "      <td>86</td>\n",
       "      <td>0</td>\n",
       "      <td>4.92</td>\n",
       "      <td>BR</td>\n",
       "      <td>2022-02-01 01:37:07</td>\n",
       "    </tr>\n",
       "    <tr>\n",
       "      <th>3</th>\n",
       "      <td>Ushuaia</td>\n",
       "      <td>-54.8000</td>\n",
       "      <td>-68.3000</td>\n",
       "      <td>40.66</td>\n",
       "      <td>87</td>\n",
       "      <td>75</td>\n",
       "      <td>17.27</td>\n",
       "      <td>AR</td>\n",
       "      <td>2022-02-01 01:36:21</td>\n",
       "    </tr>\n",
       "    <tr>\n",
       "      <th>4</th>\n",
       "      <td>Fortuna</td>\n",
       "      <td>40.5982</td>\n",
       "      <td>-124.1573</td>\n",
       "      <td>48.54</td>\n",
       "      <td>78</td>\n",
       "      <td>75</td>\n",
       "      <td>1.99</td>\n",
       "      <td>US</td>\n",
       "      <td>2022-02-01 01:37:07</td>\n",
       "    </tr>\n",
       "    <tr>\n",
       "      <th>5</th>\n",
       "      <td>Komsomolskiy</td>\n",
       "      <td>40.4272</td>\n",
       "      <td>71.7189</td>\n",
       "      <td>27.82</td>\n",
       "      <td>86</td>\n",
       "      <td>71</td>\n",
       "      <td>0.00</td>\n",
       "      <td>UZ</td>\n",
       "      <td>2022-02-01 01:37:07</td>\n",
       "    </tr>\n",
       "    <tr>\n",
       "      <th>6</th>\n",
       "      <td>Yellowknife</td>\n",
       "      <td>62.4560</td>\n",
       "      <td>-114.3525</td>\n",
       "      <td>-11.58</td>\n",
       "      <td>83</td>\n",
       "      <td>20</td>\n",
       "      <td>6.91</td>\n",
       "      <td>CA</td>\n",
       "      <td>2022-02-01 01:37:08</td>\n",
       "    </tr>\n",
       "    <tr>\n",
       "      <th>7</th>\n",
       "      <td>Port Alfred</td>\n",
       "      <td>-33.5906</td>\n",
       "      <td>26.8910</td>\n",
       "      <td>74.64</td>\n",
       "      <td>97</td>\n",
       "      <td>99</td>\n",
       "      <td>2.71</td>\n",
       "      <td>ZA</td>\n",
       "      <td>2022-02-01 01:36:18</td>\n",
       "    </tr>\n",
       "    <tr>\n",
       "      <th>8</th>\n",
       "      <td>Castro</td>\n",
       "      <td>-24.7911</td>\n",
       "      <td>-50.0119</td>\n",
       "      <td>62.67</td>\n",
       "      <td>90</td>\n",
       "      <td>1</td>\n",
       "      <td>2.55</td>\n",
       "      <td>BR</td>\n",
       "      <td>2022-02-01 01:37:08</td>\n",
       "    </tr>\n",
       "    <tr>\n",
       "      <th>9</th>\n",
       "      <td>Busselton</td>\n",
       "      <td>-33.6500</td>\n",
       "      <td>115.3333</td>\n",
       "      <td>69.08</td>\n",
       "      <td>39</td>\n",
       "      <td>0</td>\n",
       "      <td>16.35</td>\n",
       "      <td>AU</td>\n",
       "      <td>2022-02-01 01:37:09</td>\n",
       "    </tr>\n",
       "  </tbody>\n",
       "</table>\n",
       "</div>"
      ],
      "text/plain": [
       "           City      Lat       Lng  Max Temp  Humidity  Cloudiness  \\\n",
       "0     Namatanai  -3.6667  152.4333     84.04        69         100   \n",
       "1     Saskylakh  71.9167  114.0833    -28.91       100          66   \n",
       "2      Camacari -12.6975  -38.3242     82.17        86           0   \n",
       "3       Ushuaia -54.8000  -68.3000     40.66        87          75   \n",
       "4       Fortuna  40.5982 -124.1573     48.54        78          75   \n",
       "5  Komsomolskiy  40.4272   71.7189     27.82        86          71   \n",
       "6   Yellowknife  62.4560 -114.3525    -11.58        83          20   \n",
       "7   Port Alfred -33.5906   26.8910     74.64        97          99   \n",
       "8        Castro -24.7911  -50.0119     62.67        90           1   \n",
       "9     Busselton -33.6500  115.3333     69.08        39           0   \n",
       "\n",
       "   Wind Speed Country                 Date  \n",
       "0        7.25      PG  2022-02-01 01:37:06  \n",
       "1        2.19      RU  2022-02-01 01:37:06  \n",
       "2        4.92      BR  2022-02-01 01:37:07  \n",
       "3       17.27      AR  2022-02-01 01:36:21  \n",
       "4        1.99      US  2022-02-01 01:37:07  \n",
       "5        0.00      UZ  2022-02-01 01:37:07  \n",
       "6        6.91      CA  2022-02-01 01:37:08  \n",
       "7        2.71      ZA  2022-02-01 01:36:18  \n",
       "8        2.55      BR  2022-02-01 01:37:08  \n",
       "9       16.35      AU  2022-02-01 01:37:09  "
      ]
     },
     "execution_count": 20,
     "metadata": {},
     "output_type": "execute_result"
    }
   ],
   "source": [
    "# Convert the array of dictionaries to a Pandas DataFrame.\n",
    "city_data_df = pd.DataFrame(city_data)\n",
    "city_data_df.head(10)"
   ]
  },
  {
   "cell_type": "code",
   "execution_count": 21,
   "id": "9877790a",
   "metadata": {},
   "outputs": [],
   "source": [
    "# Create the output file (CSV).\n",
    "output_data_file = \"weather_data/cities.csv\"\n",
    "# Export the City_Data into a CSV.\n",
    "city_data_df.to_csv(output_data_file, index_label=\"City_ID\")"
   ]
  },
  {
   "cell_type": "code",
   "execution_count": 22,
   "id": "d82eea03",
   "metadata": {},
   "outputs": [],
   "source": [
    "# Extract relevant fields from the DataFrame for plotting.\n",
    "lats = city_data_df[\"Lat\"]\n",
    "max_temps = city_data_df[\"Max Temp\"]\n",
    "humidity = city_data_df[\"Humidity\"]\n",
    "cloudiness = city_data_df[\"Cloudiness\"]\n",
    "wind_speed = city_data_df[\"Wind Speed\"]"
   ]
  },
  {
   "cell_type": "code",
   "execution_count": 25,
   "id": "2f5ad416",
   "metadata": {},
   "outputs": [
    {
     "data": {
      "text/plain": [
       "'01/31/22'"
      ]
     },
     "execution_count": 25,
     "metadata": {},
     "output_type": "execute_result"
    }
   ],
   "source": [
    "# Import the time module.\n",
    "import time\n",
    "# Get today's date in seconds.\n",
    "today = time.strftime(\"%x\")\n",
    "today"
   ]
  },
  {
   "cell_type": "code",
   "execution_count": 26,
   "id": "1485706d",
   "metadata": {},
   "outputs": [
    {
     "data": {
      "image/png": "[encoded data removed]",
      "text/plain": [
       "<Figure size 432x288 with 1 Axes>"
      ]
     },
     "metadata": {
      "needs_background": "light"
     },
     "output_type": "display_data"
    }
   ],
   "source": [
    "# Import time module\n",
    "import time\n",
    "\n",
    "# Build the scatter plot for latitude vs. max temperature.\n",
    "plt.scatter(lats,\n",
    "            max_temps,\n",
    "            edgecolor=\"black\", linewidths=1, marker=\"o\",\n",
    "            alpha=0.8, label=\"Cities\")\n",
    "\n",
    "# Incorporate the other graph properties.\n",
    "plt.title(f\"City Latitude vs. Max Temperature \"+ time.strftime(\"%x\"))\n",
    "plt.ylabel(\"Max Temperature (F)\")\n",
    "plt.xlabel(\"Latitude\")\n",
    "plt.grid(True)\n",
    "\n",
    "# Save the figure.\n",
    "plt.savefig(\"weather_data/Fig1.png\")\n",
    "\n",
    "# Show plot.\n",
    "plt.show()"
   ]
  },
  {
   "cell_type": "code",
   "execution_count": 27,
   "id": "1da1c2ac",
   "metadata": {},
   "outputs": [
    {
     "data": {
      "image/png": "[encoded data removed]",
      "text/plain": [
       "<Figure size 432x288 with 1 Axes>"
      ]
     },
     "metadata": {
      "needs_background": "light"
     },
     "output_type": "display_data"
    }
   ],
   "source": [
    "# Build the scatter plots for latitude vs. humidity.\n",
    "plt.scatter(lats,\n",
    "            humidity,\n",
    "            edgecolor=\"black\", linewidths=1, marker=\"o\",\n",
    "            alpha=0.8, label=\"Cities\")\n",
    "\n",
    "# Incorporate the other graph properties.\n",
    "plt.title(f\"City Latitude vs. Humidity \"+ time.strftime(\"%x\"))\n",
    "plt.ylabel(\"Humidity (%)\")\n",
    "plt.xlabel(\"Latitude\")\n",
    "plt.grid(True)\n",
    "# Save the figure.\n",
    "plt.savefig(\"weather_data/Fig2.png\")\n",
    "# Show plot.\n",
    "plt.show()"
   ]
  },
  {
   "cell_type": "code",
   "execution_count": 28,
   "id": "652ba5e5",
   "metadata": {},
   "outputs": [
    {
     "data": {
      "image/png": "[encoded data removed]",
      "text/plain": [
       "<Figure size 432x288 with 1 Axes>"
      ]
     },
     "metadata": {
      "needs_background": "light"
     },
     "output_type": "display_data"
    }
   ],
   "source": [
    "# Build the scatter plots for latitude vs. cloudiness.\n",
    "plt.scatter(lats,\n",
    "            cloudiness,\n",
    "            edgecolor=\"black\", linewidths=1, marker=\"o\",\n",
    "            alpha=0.8, label=\"Cities\")\n",
    "\n",
    "# Incorporate the other graph properties.\n",
    "plt.title(f\"City Latitude vs. Cloudiness (%) \"+ time.strftime(\"%x\"))\n",
    "plt.ylabel(\"Cloudiness (%)\")\n",
    "plt.xlabel(\"Latitude\")\n",
    "plt.grid(True)\n",
    "# Save the figure.\n",
    "plt.savefig(\"weather_data/Fig3.png\")\n",
    "# Show plot.\n",
    "plt.show()"
   ]
  },
  {
   "cell_type": "code",
   "execution_count": 29,
   "id": "6024d64a",
   "metadata": {},
   "outputs": [
    {
     "data": {
      "image/png": "[encoded data removed]",
      "text/plain": [
       "<Figure size 432x288 with 1 Axes>"
      ]
     },
     "metadata": {
      "needs_background": "light"
     },
     "output_type": "display_data"
    }
   ],
   "source": [
    "# Build the scatter plots for latitude vs. wind speed.\n",
    "plt.scatter(lats,\n",
    "            wind_speed,\n",
    "            edgecolor=\"black\", linewidths=1, marker=\"o\",\n",
    "            alpha=0.8, label=\"Cities\")\n",
    "\n",
    "# Incorporate the other graph properties.\n",
    "plt.title(f\"City Latitude vs. Wind Speed \"+ time.strftime(\"%x\"))\n",
    "plt.ylabel(\"Wind Speed (mph)\")\n",
    "plt.xlabel(\"Latitude\")\n",
    "plt.grid(True)\n",
    "# Save the figure.\n",
    "plt.savefig(\"weather_data/Fig4.png\")\n",
    "# Show plot.\n",
    "plt.show()"
   ]
  },
  {
   "cell_type": "code",
   "execution_count": null,
   "id": "09842fe7",
   "metadata": {},
   "outputs": [],
   "source": []
  },
  {
   "cell_type": "code",
   "execution_count": null,
   "id": "d21270d3",
   "metadata": {},
   "outputs": [],
   "source": []
  },
  {
   "cell_type": "code",
   "execution_count": null,
   "id": "1aaca18d",
   "metadata": {},
   "outputs": [],
   "source": []
  },
  {
   "cell_type": "code",
   "execution_count": null,
   "id": "84296f0d",
   "metadata": {},
   "outputs": [],
   "source": []
  },
  {
   "cell_type": "code",
   "execution_count": null,
   "id": "f9485160",
   "metadata": {},
   "outputs": [],
   "source": []
  },
  {
   "cell_type": "code",
   "execution_count": null,
   "id": "9ea0315a",
   "metadata": {},
   "outputs": [],
   "source": []
  },
  {
   "cell_type": "code",
   "execution_count": null,
   "id": "984ed79a",
   "metadata": {},
   "outputs": [],
   "source": []
  },
  {
   "cell_type": "code",
   "execution_count": null,
   "id": "6d1d6b08",
   "metadata": {},
   "outputs": [],
   "source": []
  },
  {
   "cell_type": "code",
   "execution_count": null,
   "id": "90ad99c4",
   "metadata": {},
   "outputs": [],
   "source": []
  },
  {
   "cell_type": "code",
   "execution_count": null,
   "id": "cd1f699f",
   "metadata": {},
   "outputs": [],
   "source": []
  },
  {
   "cell_type": "code",
   "execution_count": null,
   "id": "439d2bbd",
   "metadata": {},
   "outputs": [],
   "source": []
  },
  {
   "cell_type": "code",
   "execution_count": null,
   "id": "784e5cd7",
   "metadata": {},
   "outputs": [],
   "source": []
  }
 ],
 "metadata": {
  "kernelspec": {
   "display_name": "pythondata",
   "language": "python",
   "name": "pythondata"
  },
  "language_info": {
   "codemirror_mode": {
    "name": "ipython",
    "version": 3
   },
   "file_extension": ".py",
   "mimetype": "text/x-python",
   "name": "python",
   "nbconvert_exporter": "python",
   "pygments_lexer": "ipython3",
   "version": "3.9.7"
  }
 },
 "nbformat": 4,
 "nbformat_minor": 5
}
